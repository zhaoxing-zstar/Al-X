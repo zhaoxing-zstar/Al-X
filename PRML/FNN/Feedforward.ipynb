{
  "nbformat": 4,
  "nbformat_minor": 0,
  "metadata": {
    "colab": {
      "name": "Feedforward.ipynb",
      "provenance": [],
      "collapsed_sections": []
    },
    "kernelspec": {
      "name": "python3",
      "display_name": "Python 3"
    },
    "language_info": {
      "name": "python"
    }
  },
  "cells": [
    {
      "cell_type": "markdown",
      "metadata": {
        "id": "GaYxAACvWu1R"
      },
      "source": [
        "## Feedforward Neural Network Model Structure"
      ]
    },
    {
      "cell_type": "code",
      "metadata": {
        "id": "72_eQKQtOlrq"
      },
      "source": [
        "import torch\n",
        "import torch.nn as nn\n",
        "\n",
        "class Net(nn.Module):\n",
        "    def __init__(self, input_size,  num_classes):\n",
        "        super(Net, self).__init__()                    # Inherited from the parent class nn.Module\n",
        "        self.fc1 = nn.Linear(input_size, 256)  # 1st Full-Connected Layer: 784 (input data) -> 256 (hidden node)\n",
        "        self.relu1 = nn.ReLU()                          # Non-Linear ReLU Layer: max(0,x)\n",
        "        self.fc2 = nn.Linear(256, 64) # 2nd Full-Connected Layer: 256 (hidden node) -> 64 (hidden node)\n",
        "        self.relu2 = nn.ReLU()                          # Non-Linear ReLU Layer: max(0,x)\n",
        "        self.fc3 = nn.Linear(64, 10) # 3nd Full-Connected Layer: 64 (hidden node) -> 10 (output class)\n",
        "        self.softmax1=nn.LogSoftmax(dim=1)                   #Logsoftmax\n",
        "    \n",
        "    def forward(self, x):                              # Forward pass: stacking each layer together\n",
        "        out = self.fc1(x)\n",
        "        out = self.relu1(out)\n",
        "        out = self.fc2(out)\n",
        "        out = self.relu2(out)\n",
        "        out = self.fc3(out)\n",
        "        out = self.softmax1(out)\n",
        "        return out"
      ],
      "execution_count": 17,
      "outputs": []
    },
    {
      "cell_type": "code",
      "metadata": {
        "colab": {
          "base_uri": "https://localhost:8080/"
        },
        "id": "tBNLkF5NQUoF",
        "outputId": "4a5d6921-ad6e-4a06-86c1-317fbeaeb82d"
      },
      "source": [
        "learning_rate=0.0001\n",
        "net = Net(28*28, 10)\n",
        "print(net)\n",
        "criterion = nn.CrossEntropyLoss()\n",
        "optimizer = torch.optim.Adam(net.parameters(), lr=learning_rate)"
      ],
      "execution_count": 22,
      "outputs": [
        {
          "output_type": "stream",
          "text": [
            "Net(\n",
            "  (fc1): Linear(in_features=784, out_features=256, bias=True)\n",
            "  (relu1): ReLU()\n",
            "  (fc2): Linear(in_features=256, out_features=64, bias=True)\n",
            "  (relu2): ReLU()\n",
            "  (fc3): Linear(in_features=64, out_features=10, bias=True)\n",
            "  (softmax1): LogSoftmax(dim=1)\n",
            ")\n"
          ],
          "name": "stdout"
        }
      ]
    },
    {
      "cell_type": "markdown",
      "metadata": {
        "id": "cse3EtLLW7MO"
      },
      "source": [
        "## Download MNIST and Train the FNN Model"
      ]
    },
    {
      "cell_type": "code",
      "metadata": {
        "colab": {
          "base_uri": "https://localhost:8080/"
        },
        "id": "y4vmB8aANkgD",
        "outputId": "270830e7-7e97-4f4a-995b-fe340d310a40"
      },
      "source": [
        "import torch\n",
        "import torch.nn as nn\n",
        "from torch.autograd import Variable\n",
        "\n",
        "from torchvision import datasets, transforms\n",
        "\n",
        "\n",
        "def download_mnist():\n",
        "\n",
        "    transform = transforms.Compose([\n",
        "        transforms.ToTensor(),\n",
        "        transforms.Normalize(mean=(0.1307,), std=(0.3081,))\n",
        "    ])\n",
        "\n",
        "    train_dataset = datasets.MNIST(\n",
        "        root=\"./data/\", transform=transform, train=True, download=True)\n",
        "    test_dataset = datasets.MNIST(\n",
        "        root=\"./data/\", transform=transform, train=False, download=True)\n",
        "\n",
        "    return train_dataset, test_dataset\n",
        "\n",
        "\n",
        "def one_hot(y):\n",
        "    y_ = torch.zeros((y.shape[0], 10))\n",
        "    y_[torch.arange(y.shape[0], dtype=torch.long), y] = 1\n",
        "    return y_\n",
        "\n",
        "def batch(dataset, numpy=True):\n",
        "    data = []\n",
        "    label = []\n",
        "    for each in dataset:\n",
        "        data.append(each[0])\n",
        "        label.append(each[1])\n",
        "    data = torch.stack(data)\n",
        "    label = torch.LongTensor(label)\n",
        "    if numpy:\n",
        "        return [(data.numpy(), label.numpy())]\n",
        "    else:\n",
        "        return [(data, label)]\n",
        "def mini_batch(dataset, batch_size=128):\n",
        "    return torch.utils.data.DataLoader(dataset, batch_size=batch_size, shuffle=True)\n",
        "\n",
        "\n",
        "def torch_run():\n",
        "    train_dataset, test_dataset = download_mnist()\n",
        "\n",
        "    epoch_number = 10\n",
        "\n",
        "    for epoch in range(epoch_number):\n",
        "        for x, y in mini_batch(train_dataset):\n",
        "            x=Variable(x.view(-1,28*28))\n",
        "            # y = one_hot(y)\n",
        "            y=Variable(y)\n",
        "            optimizer.zero_grad()                             # Intialize the hidden weight to all zeros\n",
        "            outputs = net(x)                             # Forward pass: compute the output class given a image\n",
        "            loss = criterion(outputs, y)                 # Compute the loss: difference between the output class and the pre-given label\n",
        "            loss.backward()                                   # Backward pass: compute the weight\n",
        "            optimizer.step()                                  # Optimizer: update the weights of hidden nodes\n",
        "        x, y = batch(test_dataset, numpy=False)[0]\n",
        "        x=Variable(x.view(-1,28*28))\n",
        "        accuracy = net(x).argmax(dim=1).eq(y).float().mean().item()\n",
        "        # print('[{}] Accuracy: {:.4f}'.format(epoch, accuracy))\n",
        "        print(f'Epoch [{epoch+1:d}/{epoch_number:d}], Loss: {loss.item():.4f}, Accuracy: {accuracy:.4f}')\n",
        "        # print('Epoch [%d/%d],  Loss: %.4f'%(epoch+1, epoch_number, loss.item()))\n",
        "\n",
        "    # correct = 0\n",
        "    # total = 0\n",
        "    # for images, labels in mini_batch(test_dataset):\n",
        "    #     images = Variable(images.view(-1, 28*28))\n",
        "    #     outputs = net(images)\n",
        "    #     _, predicted = torch.max(outputs.data, 1)  # Choose the best class from the output: The class with the best score\n",
        "    #     total += labels.size(0)                    # Increment the total count\n",
        "    #     correct += (predicted == labels).sum()     # Increment the correct count\n",
        "        \n",
        "    # print('Accuracy of the network on the 10K test images: %d %%' % (100 * correct / total))\n",
        "if __name__ == \"__main__\":\n",
        "    torch_run()"
      ],
      "execution_count": 23,
      "outputs": [
        {
          "output_type": "stream",
          "text": [
            "Epoch [1/10], Loss: 0.3682, Accuracy: 0.9114\n",
            "Epoch [2/10], Loss: 0.3364, Accuracy: 0.9269\n",
            "Epoch [3/10], Loss: 0.3293, Accuracy: 0.9402\n",
            "Epoch [4/10], Loss: 0.1457, Accuracy: 0.9465\n",
            "Epoch [5/10], Loss: 0.0934, Accuracy: 0.9527\n",
            "Epoch [6/10], Loss: 0.0889, Accuracy: 0.9581\n",
            "Epoch [7/10], Loss: 0.2392, Accuracy: 0.9620\n",
            "Epoch [8/10], Loss: 0.1756, Accuracy: 0.9640\n",
            "Epoch [9/10], Loss: 0.0959, Accuracy: 0.9677\n",
            "Epoch [10/10], Loss: 0.0955, Accuracy: 0.9692\n"
          ],
          "name": "stdout"
        }
      ]
    },
    {
      "cell_type": "code",
      "metadata": {
        "id": "wLqsHP74Xt6p"
      },
      "source": [
        ""
      ],
      "execution_count": null,
      "outputs": []
    }
  ]
}